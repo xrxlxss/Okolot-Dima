{
  "nbformat": 4,
  "nbformat_minor": 0,
  "metadata": {
    "colab": {
      "provenance": []
    },
    "kernelspec": {
      "name": "python3",
      "display_name": "Python 3"
    },
    "language_info": {
      "name": "python"
    }
  },
  "cells": [
    {
      "cell_type": "code",
      "execution_count": 1,
      "metadata": {
        "colab": {
          "base_uri": "https://localhost:8080/"
        },
        "id": "LOdekPuejt_Z",
        "outputId": "9f0c2589-dd3f-476d-af43-5015c8213a41"
      },
      "outputs": [
        {
          "output_type": "stream",
          "name": "stdout",
          "text": [
            "найденi відрізки:  [-1, 0]\n",
            "найденi відрізки:  [1, 2]\n"
          ]
        }
      ],
      "source": [
        "import math\n",
        "import numpy as np\n",
        "from scipy.misc import derivative\n",
        "def f(x):\n",
        "\n",
        "   return 3*pow(x, 4) -4*pow(x,3) +pow(x,2) -2*x - 5\n",
        "\n",
        "eps=0.0001\n",
        "def find_segments(): #відокремлюємо корені\n",
        "\n",
        "    search_range = np.arange(-10, 10, 1)\n",
        "    a = None\n",
        "\n",
        "    previous_x = None\n",
        "\n",
        "    current_x  = None\n",
        "\n",
        "    segments = []\n",
        "    for x in search_range:\n",
        "\n",
        "        x = round(x, 4)\n",
        "\n",
        "        current_x = f(x)\n",
        "\n",
        "        if previous_x != None and previous_x * current_x < 0:\n",
        "\n",
        "            segments.append((a, x))\n",
        "\n",
        "        a = x\n",
        "\n",
        "        previous_x = current_x\n",
        "\n",
        "    return segments\n",
        "segments = find_segments()\n",
        "c1=segments[0]\n",
        "a1=c1[0]\n",
        "b1=c1[1]\n",
        "c2=segments[1]\n",
        "a2=c2[0]\n",
        "b2=c2[1]\n",
        "\n",
        "for a, b in segments:\n",
        "  print(f'найденi відрізки:  [{a}, {b}]')"
      ]
    },
    {
      "cell_type": "code",
      "source": [
        "def f_prime(x):\n",
        "    return 12*x**3 - 12*x**2+2*x-2\n",
        "\n",
        "def newton_method(a,b,eps):\n",
        "\n",
        "    df2 = derivative(f, b, n = 2)\n",
        "\n",
        "    if (f(b)*df2>0):\n",
        "\n",
        "        xi = b\n",
        "\n",
        "    else:\n",
        "\n",
        "        xi = a\n",
        "\n",
        "    df = derivative(f,xi, n= 1)\n",
        "\n",
        "    xi_1 = xi - f(xi)/df\n",
        "\n",
        "    while (abs(xi_1 - xi)>eps): #accuracy check\n",
        "\n",
        "        xi = xi_1\n",
        "\n",
        "        xi_1 = xi - f(xi)/df\n",
        "\n",
        "    return print ( xi_1)\n",
        "print ('метод ньютона для  1 відрізка')\n",
        "newton_method(a1,b1,eps)\n",
        "print ('метод ньютона для  2 відрізка')\n",
        "newton_method(a2,b2,eps)"
      ],
      "metadata": {
        "colab": {
          "base_uri": "https://localhost:8080/"
        },
        "id": "SwfklYoBj0xs",
        "outputId": "f35fa381-8df7-423d-c14b-70f5c8fccdc0"
      },
      "execution_count": 7,
      "outputs": [
        {
          "output_type": "stream",
          "name": "stdout",
          "text": [
            "метод ньютона для  1 відрізка\n",
            "-0.7693122353837931\n",
            "метод ньютона для  2 відрізка\n",
            "1.704257334759688\n"
          ]
        },
        {
          "output_type": "stream",
          "name": "stderr",
          "text": [
            "<ipython-input-7-06e33190860c>:6: DeprecationWarning: scipy.misc.derivative is deprecated in SciPy v1.10.0; and will be completely removed in SciPy v1.12.0. You may consider using findiff: https://github.com/maroba/findiff or numdifftools: https://github.com/pbrod/numdifftools\n",
            "  df2 = derivative(f, b, n = 2)\n",
            "<ipython-input-7-06e33190860c>:16: DeprecationWarning: scipy.misc.derivative is deprecated in SciPy v1.10.0; and will be completely removed in SciPy v1.12.0. You may consider using findiff: https://github.com/maroba/findiff or numdifftools: https://github.com/pbrod/numdifftools\n",
            "  df = derivative(f,xi, n= 1)\n"
          ]
        }
      ]
    },
    {
      "cell_type": "code",
      "source": [
        "def komb(a,b,eps):\n",
        "\n",
        "    if (derivative(f, a, n = 1)*derivative(f, a, n = 2)>0):\n",
        "\n",
        "        a0 = a\n",
        "\n",
        "        b0 = b\n",
        "\n",
        "\n",
        "\n",
        "    else:\n",
        "\n",
        "        a0 = b\n",
        "\n",
        "        b0 = a\n",
        "\n",
        "    ai = a0\n",
        "\n",
        "    bi = b0\n",
        "\n",
        "    while abs(ai-bi)>eps:\n",
        "\n",
        "        ai_1 = ai -f(ai)*(bi - ai)/(f(bi) - f(ai))\n",
        "\n",
        "        bi_1 = bi - f(bi)/derivative(f,bi, n= 1)\n",
        "\n",
        "        ai = ai_1\n",
        "\n",
        "        bi = bi_1\n",
        "\n",
        "    x = (ai_1+bi_1)/2\n",
        "\n",
        "\n",
        "\n",
        "    return print( x)\n",
        "print ('комбінований метод для  1 відрізка')\n",
        "komb(a1,b1,eps)\n",
        "print ('комбінований метод для  2 відрізка')\n",
        "komb(a2,b2,eps)"
      ],
      "metadata": {
        "colab": {
          "base_uri": "https://localhost:8080/"
        },
        "id": "6em8hDRPmS_3",
        "outputId": "4ef7db60-adb3-4cb6-8209-bc30931a473a"
      },
      "execution_count": 9,
      "outputs": [
        {
          "output_type": "stream",
          "name": "stdout",
          "text": [
            "комбінований метод для  1 відрізка\n",
            "-0.769178005269942\n",
            "комбінований метод для  2 відрізка\n",
            "1.704138394439878\n"
          ]
        },
        {
          "output_type": "stream",
          "name": "stderr",
          "text": [
            "<ipython-input-9-74c87f688043>:3: DeprecationWarning: scipy.misc.derivative is deprecated in SciPy v1.10.0; and will be completely removed in SciPy v1.12.0. You may consider using findiff: https://github.com/maroba/findiff or numdifftools: https://github.com/pbrod/numdifftools\n",
            "  if (derivative(f, a, n = 1)*derivative(f, a, n = 2)>0):\n",
            "<ipython-input-9-74c87f688043>:25: DeprecationWarning: scipy.misc.derivative is deprecated in SciPy v1.10.0; and will be completely removed in SciPy v1.12.0. You may consider using findiff: https://github.com/maroba/findiff or numdifftools: https://github.com/pbrod/numdifftools\n",
            "  bi_1 = bi - f(bi)/derivative(f,bi, n= 1)\n"
          ]
        }
      ]
    }
  ]
}