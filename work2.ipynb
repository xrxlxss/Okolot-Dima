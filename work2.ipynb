{
  "nbformat": 4,
  "nbformat_minor": 0,
  "metadata": {
    "colab": {
      "provenance": []
    },
    "kernelspec": {
      "name": "python3",
      "display_name": "Python 3"
    },
    "language_info": {
      "name": "python"
    }
  },
  "cells": [
    {
      "cell_type": "code",
      "execution_count": 9,
      "metadata": {
        "colab": {
          "base_uri": "https://localhost:8080/"
        },
        "id": "-p3kV6rdoMUm",
        "outputId": "220f336e-1242-4e60-a37d-1fb92613502d"
      },
      "outputs": [
        {
          "output_type": "stream",
          "name": "stdout",
          "text": [
            "найденi відрізки:  [-1, 0]\n",
            "найденi відрізки:  [1, 2]\n"
          ]
        }
      ],
      "source": [
        "import math\n",
        "import numpy as np\n",
        "from scipy.misc import derivative\n",
        "def f(x):\n",
        "\n",
        "   return 3*pow(x, 4) -4*pow(x,3) +pow(x,2) -2*x - 5\n",
        "\n",
        "eps=0.0001\n",
        "def find_segments(): #відокремлюємо корені\n",
        "\n",
        "    search_range = np.arange(-10, 10, 1)\n",
        "    a = None\n",
        "\n",
        "    previous_x = None\n",
        "\n",
        "    current_x  = None\n",
        "\n",
        "    segments = []\n",
        "    for x in search_range:\n",
        "\n",
        "        x = round(x, 4)\n",
        "\n",
        "        current_x = f(x)\n",
        "\n",
        "        if previous_x != None and previous_x * current_x < 0:\n",
        "\n",
        "            segments.append((a, x))\n",
        "\n",
        "        a = x\n",
        "\n",
        "        previous_x = current_x\n",
        "\n",
        "    return segments\n",
        "segments = find_segments()\n",
        "c1=segments[0]\n",
        "a1=c1[0]\n",
        "b1=c1[1]\n",
        "c2=segments[1]\n",
        "a2=c2[0]\n",
        "b2=c2[1]\n",
        "\n",
        "for a, b in segments:\n",
        "  print(f'найденi відрізки:  [{a}, {b}]')"
      ]
    },
    {
      "cell_type": "code",
      "source": [
        "def rec(a, b, eps): #метод половинного ділення\n",
        "\n",
        "    while (abs(a-b) > eps):\n",
        "\n",
        "        if f(a)*f((a+b)/2)<0:\n",
        "\n",
        "            b = (a+b)/2\n",
        "\n",
        "        else:\n",
        "\n",
        "            a = (a+b)/2\n",
        "\n",
        "        x = (a+b)/2\n",
        "\n",
        "\n",
        "\n",
        "    print ('x= ', round(x,5))\n",
        "print(\"метод пол. ділення для  1 відрізка\")\n",
        "rec (a1,b1,eps) #викликаємо метод пол. ділення для  1 відрізка\n",
        "print(\"метод пол. ділення для  2 відрізка\")\n",
        "rec (a2,b2,eps) #викликаємо метод пол. ділення для  2 відрізка"
      ],
      "metadata": {
        "colab": {
          "base_uri": "https://localhost:8080/"
        },
        "id": "qWGjjAvrpLWJ",
        "outputId": "6505f0ae-3dde-4c89-aa6c-aa610ecd2906"
      },
      "execution_count": 7,
      "outputs": [
        {
          "output_type": "stream",
          "name": "stdout",
          "text": [
            "метод пол. ділення для  1 відрізка\n",
            "x=  -0.76913\n",
            "метод пол. ділення для  2 відрізка\n",
            "x=  1.70407\n"
          ]
        }
      ]
    },
    {
      "cell_type": "code",
      "source": [
        "def hord (a,b,eps): #метод хорд\n",
        "\n",
        "    if (f(a)*derivative(f,a,n=2)>0):\n",
        "\n",
        "        x0=a\n",
        "\n",
        "        xi=b\n",
        "\n",
        "    else:\n",
        "\n",
        "        x0=b\n",
        "\n",
        "        xi=a\n",
        "\n",
        "    xi_1=xi-(xi-x0)*f(xi)/(f(xi)-f(x0))\n",
        "\n",
        "    while (abs(xi_1-xi)>eps):\n",
        "\n",
        "        xi=xi_1\n",
        "\n",
        "        xi_1=xi-(xi-x0)*f(xi)/(f(xi)-f(x0))\n",
        "\n",
        "    print('x= ', round (xi_1,5) )\n",
        "print(\"метод хорд для  1 відрізка\")\n",
        "hord (a1,b1,eps) #викликаємо метод хорд для 1 відрізка\n",
        "print(\"метод хорд для  2 відрізка\")\n",
        "hord (a2,b2,eps) #викликаємо метод хорд для 2 відрізка"
      ],
      "metadata": {
        "colab": {
          "base_uri": "https://localhost:8080/"
        },
        "id": "ITXiTbPKpceK",
        "outputId": "3afe5d0f-965c-444f-8c60-66c0f7a025b1"
      },
      "execution_count": 8,
      "outputs": [
        {
          "output_type": "stream",
          "name": "stdout",
          "text": [
            "метод хорд для  1 відрізка\n",
            "x=  -0.76913\n",
            "метод хорд для  2 відрізка\n",
            "x=  1.70407\n"
          ]
        },
        {
          "output_type": "stream",
          "name": "stderr",
          "text": [
            "<ipython-input-8-32de4296f4ee>:3: DeprecationWarning: scipy.misc.derivative is deprecated in SciPy v1.10.0; and will be completely removed in SciPy v1.12.0. You may consider using findiff: https://github.com/maroba/findiff or numdifftools: https://github.com/pbrod/numdifftools\n",
            "  if (f(a)*derivative(f,a,n=2)>0):\n"
          ]
        }
      ]
    }
  ]
}