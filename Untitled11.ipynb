{
  "nbformat": 4,
  "nbformat_minor": 0,
  "metadata": {
    "colab": {
      "provenance": []
    },
    "kernelspec": {
      "name": "python3",
      "display_name": "Python 3"
    },
    "language_info": {
      "name": "python"
    }
  },
  "cells": [
    {
      "cell_type": "code",
      "execution_count": null,
      "metadata": {
        "colab": {
          "base_uri": "https://localhost:8080/"
        },
        "id": "6kPi1BuqH5Wr",
        "outputId": "6ab011c3-4b14-43d1-d399-a9b94ffe9947"
      },
      "outputs": [
        {
          "output_type": "stream",
          "name": "stdout",
          "text": [
            "Відрізок 1:\n",
            "S_0(x) = 5.28 + 4.9985(x - 0.3) + 0.0(x - 0.3)^2 + -7.5942(x - 0.3)^3, x належить [0.3, 0.8]\n",
            "Відрізок 2:\n",
            "S_1(x) = 6.83 + -0.6971(x - 0.8) + -11.3913(x - 0.8)^2 + 9.4403(x - 0.8)^3, x належить [0.8, 1.4]\n",
            "Відрізок 3:\n",
            "S_2(x) = 4.35 + -4.1711(x - 1.4) + 5.6013(x - 1.4)^2 + -2.6673(x - 1.4)^3, x належить [1.4, 2.1]\n",
            "Відрізок 4:\n",
            "S_3(x) = 3.26 + 0.0(x - 2.1) + 0.0(x - 2.1)^2 + 0.0(x - 2.1)^3, x належить [2.1, 2.9]\n"
          ]
        }
      ],
      "source": [
        "import numpy as np\n",
        "from scipy.interpolate import CubicSpline\n",
        "import matplotlib.pyplot as plt\n",
        "x = np.array([0.3, 0.8 ,1.4 ,2.1, 2.9])\n",
        "y = np.array([5.28, 6.83, 4.35 ,3.26 ,2.35])\n",
        "n = len(x) - 1\n",
        "h = np.diff(x)\n",
        "a = y\n",
        "b = np.zeros(n)\n",
        "d = np.zeros(n)\n",
        "c = np.zeros(n)\n",
        "alpha = np.zeros(n)\n",
        "for i in range(1, n):\n",
        "  alpha[i] = (3 / h[i]) * (a[i+1] - a[i]) - (3 / h[i-1]) * (a[i] - a[i-1])\n",
        "l = np.ones(n)\n",
        "mu = np.zeros(n)\n",
        "z = np.zeros(n)\n",
        "for i in range(1, n):\n",
        "  l[i] = 2 * (x[i+1] - x[i-1]) - h[i-1] * mu[i-1]\n",
        "  mu[i] = h[i] / l[i]\n",
        "  z[i] = (alpha[i] - h[i-1] * z[i-1]) / l[i]\n",
        "for j in range(n - 2, -1, -1):\n",
        "  c[j] = z[j] - mu[j] * c[j+1]\n",
        "  b[j] = (a[j+1] - a[j]) / h[j] - h[j] * (c[j+1] + 2 * c[j]) / 3\n",
        "  d[j] = (c[j+1] - c[j]) / (3 * h[j])\n",
        "for i in range(n):\n",
        "  print(f\"Відрізок {i+1}:\")\n",
        "  print(f\"S_{i}(x) = {a[i]} + {b[i].round(4)}(x - {x[i]}) + {c[i].round(4)}(x - {x[i]})^2 + {d[i].round(4)}(x - {x[i]})^3, x належить [{x[i]}, {x[i+1]}]\")"
      ]
    },
    {
      "cell_type": "code",
      "source": [
        "cs = CubicSpline(x, y)\n",
        "x_new = np.linspace(np.min(x), np.max(x), 100)\n",
        "y_new = cs(x_new)\n",
        "print(\"Значення сплайна:\")\n",
        "for i in range(len(x_new)):\n",
        "  print(f\"x = {x_new[i]:.2f}, y = {y_new[i]:.3f}\")\n",
        "plt.figure(figsize=(8, 6))\n",
        "plt.plot(x, y, 'o', label='Точки',color='b')\n",
        "plt.plot(x_new, y_new, label='Кубічний сплайн',color='r')\n",
        "plt.xlabel('x')\n",
        "plt.ylabel('y')\n",
        "plt.title('Кубічний сплайн')\n",
        "plt.legend()\n",
        "plt.grid(True)\n",
        "plt.show()"
      ],
      "metadata": {
        "colab": {
          "base_uri": "https://localhost:8080/",
          "height": 1000
        },
        "id": "zZqTDxR5J5WI",
        "outputId": "61cbdb89-7d0e-4e47-a35a-9142df6965b3"
      },
      "execution_count": null,
      "outputs": [
        {
          "output_type": "stream",
          "name": "stdout",
          "text": [
            "Значення сплайна:\n",
            "x = 0.30, y = 5.280\n",
            "x = 0.33, y = 5.530\n",
            "x = 0.35, y = 5.758\n",
            "x = 0.38, y = 5.964\n",
            "x = 0.41, y = 6.148\n",
            "x = 0.43, y = 6.311\n",
            "x = 0.46, y = 6.455\n",
            "x = 0.48, y = 6.579\n",
            "x = 0.51, y = 6.685\n",
            "x = 0.54, y = 6.774\n",
            "x = 0.56, y = 6.845\n",
            "x = 0.59, y = 6.899\n",
            "x = 0.62, y = 6.938\n",
            "x = 0.64, y = 6.962\n",
            "x = 0.67, y = 6.972\n",
            "x = 0.69, y = 6.968\n",
            "x = 0.72, y = 6.952\n",
            "x = 0.75, y = 6.923\n",
            "x = 0.77, y = 6.883\n",
            "x = 0.80, y = 6.832\n",
            "x = 0.83, y = 6.771\n",
            "x = 0.85, y = 6.701\n",
            "x = 0.88, y = 6.623\n",
            "x = 0.90, y = 6.536\n",
            "x = 0.93, y = 6.442\n",
            "x = 0.96, y = 6.342\n",
            "x = 0.98, y = 6.236\n",
            "x = 1.01, y = 6.125\n",
            "x = 1.04, y = 6.010\n",
            "x = 1.06, y = 5.891\n",
            "x = 1.09, y = 5.769\n",
            "x = 1.11, y = 5.645\n",
            "x = 1.14, y = 5.520\n",
            "x = 1.17, y = 5.393\n",
            "x = 1.19, y = 5.267\n",
            "x = 1.22, y = 5.141\n",
            "x = 1.25, y = 5.017\n",
            "x = 1.27, y = 4.895\n",
            "x = 1.30, y = 4.775\n",
            "x = 1.32, y = 4.659\n",
            "x = 1.35, y = 4.547\n",
            "x = 1.38, y = 4.440\n",
            "x = 1.40, y = 4.339\n",
            "x = 1.43, y = 4.243\n",
            "x = 1.46, y = 4.154\n",
            "x = 1.48, y = 4.070\n",
            "x = 1.51, y = 3.992\n",
            "x = 1.53, y = 3.920\n",
            "x = 1.56, y = 3.852\n",
            "x = 1.59, y = 3.790\n",
            "x = 1.61, y = 3.732\n",
            "x = 1.64, y = 3.679\n",
            "x = 1.67, y = 3.630\n",
            "x = 1.69, y = 3.585\n",
            "x = 1.72, y = 3.544\n",
            "x = 1.74, y = 3.507\n",
            "x = 1.77, y = 3.473\n",
            "x = 1.80, y = 3.443\n",
            "x = 1.82, y = 3.415\n",
            "x = 1.85, y = 3.391\n",
            "x = 1.88, y = 3.369\n",
            "x = 1.90, y = 3.350\n",
            "x = 1.93, y = 3.332\n",
            "x = 1.95, y = 3.317\n",
            "x = 1.98, y = 3.304\n",
            "x = 2.01, y = 3.292\n",
            "x = 2.03, y = 3.282\n",
            "x = 2.06, y = 3.272\n",
            "x = 2.09, y = 3.264\n",
            "x = 2.11, y = 3.257\n",
            "x = 2.14, y = 3.250\n",
            "x = 2.16, y = 3.243\n",
            "x = 2.19, y = 3.237\n",
            "x = 2.22, y = 3.230\n",
            "x = 2.24, y = 3.223\n",
            "x = 2.27, y = 3.216\n",
            "x = 2.30, y = 3.208\n",
            "x = 2.32, y = 3.199\n",
            "x = 2.35, y = 3.189\n",
            "x = 2.37, y = 3.178\n",
            "x = 2.40, y = 3.165\n",
            "x = 2.43, y = 3.150\n",
            "x = 2.45, y = 3.134\n",
            "x = 2.48, y = 3.115\n",
            "x = 2.51, y = 3.094\n",
            "x = 2.53, y = 3.070\n",
            "x = 2.56, y = 3.044\n",
            "x = 2.58, y = 3.014\n",
            "x = 2.61, y = 2.981\n",
            "x = 2.64, y = 2.945\n",
            "x = 2.66, y = 2.906\n",
            "x = 2.69, y = 2.862\n",
            "x = 2.72, y = 2.814\n",
            "x = 2.74, y = 2.762\n",
            "x = 2.77, y = 2.706\n",
            "x = 2.79, y = 2.645\n",
            "x = 2.82, y = 2.579\n",
            "x = 2.85, y = 2.508\n",
            "x = 2.87, y = 2.432\n",
            "x = 2.90, y = 2.350\n"
          ]
        },
        {
          "output_type": "display_data",
          "data": {
            "text/plain": [
              "<Figure size 800x600 with 1 Axes>"
            ],
            "image/png": "[encoded data removed]"
          },
          "metadata": {}
        }
      ]
    }
  ]
}