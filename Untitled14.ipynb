{
  "cells": [
    {
      "cell_type": "code",
      "source": [
        "from scipy import integrate\n",
        "import numpy as np\n",
        "eps = 0.001\n",
        "a = 0.4\n",
        "b = 1.2\n",
        "n=10\n",
        "def f1(x):\n",
        "  return 1/np.sqrt(0.5*x+2)\n",
        "\n",
        "def left_rec(f1,a,b,n):\n",
        "    h=(b-a)/n\n",
        "    sum=0\n",
        "    for i in range(0,n):\n",
        "\n",
        "        sum+=f1(a+i*h)\n",
        "\n",
        "    return sum*h\n",
        "\n",
        "v,err = integrate.quad(f1,a,b)#Перевірка\n",
        "#Перевірка точності за правилом Рунге:\n",
        "if abs(left_rec(f1,a,b,2*10) - left_rec(f1,a,b,10))/3. <=eps:\n",
        "\n",
        "    print(\"left rectangle:\",round (left_rec(f1,a,b,10), 5))\n",
        "def right_rec(f1,a,b,n):\n",
        "\n",
        "    h=(b-a)/n\n",
        "\n",
        "    sum=0\n",
        "\n",
        "    for i in range(1,n+1):\n",
        "\n",
        "        sum+=f1(a+i*h)\n",
        "\n",
        "    return sum*h\n",
        "\n",
        "print(\"right rectangle:\",round (right_rec(f1,a,b,10), 5))\n",
        "\n",
        "def aver_rec(f1,a,b,n):\n",
        "\n",
        "    h=0.08\n",
        "\n",
        "    sum=0\n",
        "\n",
        "    for i in range(0,n):\n",
        "\n",
        "        sum+=f1(a+i*h)\n",
        "\n",
        "    return sum*h\n",
        "\n",
        "print(\"average rectangle:\",round (aver_rec(f1,a,b,10), 5))\n",
        "\n",
        "print(\"Check for the rectangle method= \",round (v, 5))"
      ],
      "outputs": [
        {
          "output_type": "stream",
          "name": "stdout",
          "text": "left rectangle: 0.51902\nright rectangle: 0.5147\naverage rectangle: 0.51902\nCheck for the rectangle method=  0.51685\n"
        }
      ],
      "execution_count": 7,
      "metadata": {
        "colab": {
          "base_uri": "https://localhost:8080/"
        },
        "id": "8g5I6rQ_v9-Z",
        "outputId": "53c3c103-edbf-4b98-b2ca-3adaec5b3d3d"
      }
    },
    {
      "cell_type": "code",
      "source": [
        "from scipy import integrate\n",
        "import numpy as np\n",
        "def f(x):\n",
        "\n",
        "    return np.log10(x)*x**2\n",
        "\n",
        "a = 1.4\n",
        "b = 3\n",
        "n = 8\n",
        "def simpson_rule(f, a, b, n):\n",
        "\n",
        "    h = (b - a) / n\n",
        "\n",
        "    integr = f(a) + f(b)\n",
        "\n",
        "    for i in range(1,n):\n",
        "\n",
        "        k = a + i*h\n",
        "\n",
        "        if i%2 == 0:\n",
        "\n",
        "            integr += 2 * f(k)\n",
        "\n",
        "        else:\n",
        "\n",
        "            integr += 4 * f(k)\n",
        "\n",
        "    integr *= h/3\n",
        "\n",
        "    return integr\n",
        "\n",
        "integral1 = simpson_rule(f, a, b, n)\n",
        "\n",
        "n *= 2\n",
        "\n",
        "integral2 = simpson_rule(f, a, b, n)\n",
        "\n",
        "while abs(integral2 - integral1) / 15 > 0.001:\n",
        "\n",
        "    integral1 = integral2\n",
        "\n",
        "    n *= 2\n",
        "\n",
        "    integral2 = simpson_rule(f, a, b, n)\n",
        "\n",
        "print(\"Simpsone method:\", round(integral2,3))\n",
        "v,err = integrate.quad(f,a,b) #Перевірка\n",
        "\n",
        "print(\"Check for the simpsone method= \",round(v, 3) )"
      ],
      "outputs": [
        {
          "output_type": "stream",
          "name": "stdout",
          "text": "Simpsone method: 2.99\nCheck for the simpsone method=  2.99\n"
        }
      ],
      "execution_count": 5,
      "metadata": {
        "colab": {
          "base_uri": "https://localhost:8080/"
        },
        "id": "1l4xMI2E0rl4",
        "outputId": "862b6f3d-e4b5-4a92-eeef-2dba53c28e82"
      }
    },
    {
      "cell_type": "code",
      "source": [
        "from scipy import integrate\n",
        "\n",
        "import numpy as np\n",
        "\n",
        "def f(x):\n",
        "\n",
        "    return 1 / np.sqrt(x**2+1.2)\n",
        "\n",
        "a = 2\n",
        "b = 1.2\n",
        "n = 20\n",
        "def trapezoidal_rule(f, a, b, n):\n",
        "\n",
        "    h = (b - a) / n\n",
        "\n",
        "    x = a\n",
        "\n",
        "    sum = 0\n",
        "\n",
        "    for i in range(1, n):\n",
        "\n",
        "        x += h\n",
        "\n",
        "        sum += 2 * f(x)\n",
        "\n",
        "    sum += f(b)\n",
        "\n",
        "    integral = h / 2 * sum\n",
        "    return integral\n",
        "\n",
        "integral1 = trapezoidal_rule(f, a, b, n)\n",
        "\n",
        "n *= 2\n",
        "\n",
        "integral2 = trapezoidal_rule(f, a, b, n)\n",
        "\n",
        "while abs(integral2 - integral1) / 3 > 0.001:\n",
        "\n",
        "    integral1 = integral2\n",
        "\n",
        "    n *= 2\n",
        "\n",
        "    integral2 = trapezoidal_rule(f, a, b, n)\n",
        "\n",
        "print(\"Trapetzia methodof:\", round(integral2, 3))\n",
        "\n",
        "v,err = integrate.quad(f,a,b) #Перевірка\n",
        "\n",
        "print(\"Check for the trapetzia method= \",round(v, 5))"
      ],
      "outputs": [
        {
          "output_type": "stream",
          "name": "stdout",
          "text": "Trapetzia methodof: -0.413\nCheck for the trapetzia method=  -0.41559\n"
        }
      ],
      "execution_count": 6,
      "metadata": {
        "colab": {
          "base_uri": "https://localhost:8080/"
        },
        "id": "t6oewFSD1Egw",
        "outputId": "745002d9-8358-4fcb-9a24-9e24064b4f46"
      }
    }
  ],
  "metadata": {
    "colab": {
      "provenance": []
    },
    "kernelspec": {
      "name": "python",
      "language": "python",
      "display_name": "Pyolite (preview)"
    },
    "language_info": {
      "codemirror_mode": {
        "name": "python",
        "version": 3
      },
      "file_extension": ".py",
      "mimetype": "text/x-python",
      "name": "python",
      "nbconvert_exporter": "python",
      "pygments_lexer": "ipython3",
      "version": "3.8"
    },
    "kernel_info": {
      "name": "python"
    },
    "nteract": {
      "version": "nteract-front-end@1.0.0"
    }
  },
  "nbformat": 4,
  "nbformat_minor": 0
}